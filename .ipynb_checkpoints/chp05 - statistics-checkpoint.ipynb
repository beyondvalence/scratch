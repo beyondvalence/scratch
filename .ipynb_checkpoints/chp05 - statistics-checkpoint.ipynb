{
 "cells": [
  {
   "cell_type": "markdown",
   "metadata": {},
   "source": [
    "## Chp05 - Statistics"
   ]
  },
  {
   "cell_type": "code",
   "execution_count": 26,
   "metadata": {
    "collapsed": false
   },
   "outputs": [],
   "source": [
    "# statistics, pg 97\n",
    "import random\n",
    "from collections import Counter\n",
    "import matplotlib.pyplot as plt"
   ]
  },
  {
   "cell_type": "code",
   "execution_count": 21,
   "metadata": {
    "collapsed": true
   },
   "outputs": [],
   "source": [
    "num_friends = [random.randint(0, 100) for _ in range(100)]"
   ]
  },
  {
   "cell_type": "code",
   "execution_count": 22,
   "metadata": {
    "collapsed": false
   },
   "outputs": [
    {
     "name": "stdout",
     "output_type": "stream",
     "text": [
      "[0, 25, 17, 60, 63, 30, 63, 38, 52, 53, 97, 80, 54, 14, 62, 91, 72, 43, 18, 19, 34, 38, 15, 49, 7, 91, 31, 90, 23, 46, 40, 76, 39, 49, 61, 2, 56, 18, 19, 91, 54, 71, 45, 52, 70, 88, 89, 44, 72, 40, 7, 16, 90, 65, 95, 94, 18, 67, 26, 85, 66, 74, 26, 93, 47, 16, 35, 42, 93, 90, 99, 58, 91, 44, 64, 4, 11, 73, 41, 46, 28, 31, 42, 53, 83, 46, 37, 84, 29, 91, 65, 18, 60, 84, 43, 79, 59, 56, 17, 2]\n"
     ]
    }
   ],
   "source": [
    "print num_friends"
   ]
  },
  {
   "cell_type": "code",
   "execution_count": 23,
   "metadata": {
    "collapsed": true
   },
   "outputs": [],
   "source": [
    "friend_counts = Counter(num_friends)\n",
    "xs = range(101)\n",
    "ys = [friend_counts[x] for x in xs]"
   ]
  },
  {
   "cell_type": "code",
   "execution_count": 24,
   "metadata": {
    "collapsed": false
   },
   "outputs": [
    {
     "name": "stdout",
     "output_type": "stream",
     "text": [
      "[1, 0, 2, 0, 1, 0, 0, 2, 0, 0, 0, 1, 0, 0, 1, 1, 2, 2, 4, 2, 0, 0, 0, 1, 0, 1, 2, 0, 1, 1, 1, 2, 0, 0, 1, 1, 0, 1, 2, 1, 2, 1, 2, 2, 2, 1, 3, 1, 0, 2, 0, 0, 2, 2, 2, 0, 2, 0, 1, 1, 2, 1, 1, 2, 1, 2, 1, 1, 0, 0, 1, 1, 2, 1, 1, 0, 1, 0, 0, 1, 1, 0, 0, 1, 2, 1, 0, 0, 1, 1, 3, 5, 0, 2, 1, 1, 0, 1, 0, 1, 0]\n"
     ]
    }
   ],
   "source": [
    "print ys"
   ]
  },
  {
   "cell_type": "code",
   "execution_count": 29,
   "metadata": {
    "collapsed": false
   },
   "outputs": [
    {
     "data": {
      "image/png": "[encoded data removed]",
      "text/plain": [
       "<matplotlib.figure.Figure at 0x11104f710>"
      ]
     },
     "metadata": {},
     "output_type": "display_data"
    }
   ],
   "source": [
    "plt.bar(xs, ys)\n",
    "plt.axis([0, 101, 0, 6])\n",
    "plt.title(\"Hist of Friend Counts\")\n",
    "plt.xlabel(\"# of Friends\")\n",
    "plt.ylabel(\"# of people\")\n",
    "\n",
    "plt.show()"
   ]
  },
  {
   "cell_type": "code",
   "execution_count": 33,
   "metadata": {
    "collapsed": false
   },
   "outputs": [
    {
     "name": "stdout",
     "output_type": "stream",
     "text": [
      "100 99 0\n"
     ]
    }
   ],
   "source": [
    "# number of data points\n",
    "num_points = len(num_friends)\n",
    "\n",
    "# max and min values\n",
    "max_point = max(num_friends)\n",
    "min_point = min(num_friends)\n",
    "\n",
    "print num_points, max_point, min_point"
   ]
  },
  {
   "cell_type": "code",
   "execution_count": null,
   "metadata": {
    "collapsed": true
   },
   "outputs": [],
   "source": []
  },
  {
   "cell_type": "code",
   "execution_count": null,
   "metadata": {
    "collapsed": true
   },
   "outputs": [],
   "source": []
  },
  {
   "cell_type": "code",
   "execution_count": null,
   "metadata": {
    "collapsed": true
   },
   "outputs": [],
   "source": []
  }
 ],
 "metadata": {
  "anaconda-cloud": {},
  "kernelspec": {
   "display_name": "Python [conda env:py27]",
   "language": "python",
   "name": "conda-env-py27-py"
  },
  "language_info": {
   "codemirror_mode": {
    "name": "ipython",
    "version": 2
   },
   "file_extension": ".py",
   "mimetype": "text/x-python",
   "name": "python",
   "nbconvert_exporter": "python",
   "pygments_lexer": "ipython2",
   "version": "2.7.12"
  }
 },
 "nbformat": 4,
 "nbformat_minor": 1
}
